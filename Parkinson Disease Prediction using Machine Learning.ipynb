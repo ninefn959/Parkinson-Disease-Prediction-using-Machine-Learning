{
 "cells": [
  {
   "cell_type": "code",
   "execution_count": 1,
   "id": "bd8bef42-bfeb-466f-af3c-155da17a68b6",
   "metadata": {
    "ExecuteTime": {
     "end_time": "2024-12-27T00:41:31.023131Z",
     "start_time": "2024-12-27T00:41:29.599555Z"
    }
   },
   "outputs": [],
   "source": [
    "import numpy as np\n",
    "import pandas as pd\n",
    "import matplotlib.pyplot as plt\n",
    "import seaborn as sb\n",
    "\n",
    "from imblearn.over_sampling import RandomOverSampler\n",
    "from sklearn.model_selection import train_test_split\n",
    "from sklearn.preprocessing import LabelEncoder, MinMaxScaler\n",
    "from sklearn.feature_selection import SelectKBest, chi2\n",
    "from tqdm.notebook import tqdm\n",
    "from sklearn import metrics\n",
    "from sklearn.svm import SVC\n",
    "from xgboost import XGBClassifier\n",
    "from sklearn.linear_model import LogisticRegression\n",
    "from sklearn.metrics import roc_auc_score as ras\n",
    "\n",
    "import warnings\n",
    "warnings.filterwarnings('ignore')"
   ]
  },
  {
   "cell_type": "code",
   "execution_count": 2,
   "id": "18f4f551-9dff-4236-8e85-3120bb9d0e7b",
   "metadata": {},
   "outputs": [],
   "source": [
    "df = pd.read_csv('pd_speech_features.csv')"
   ]
  },
  {
   "cell_type": "code",
   "execution_count": 3,
   "id": "88ea4199-1b5f-48b2-9a35-b4b876fc771b",
   "metadata": {},
   "outputs": [
    {
     "data": {
      "text/plain": [
       "(756, 755)"
      ]
     },
     "execution_count": 3,
     "metadata": {},
     "output_type": "execute_result"
    }
   ],
   "source": [
    "df.shape"
   ]
  },
  {
   "cell_type": "code",
   "execution_count": 4,
   "id": "fa0c8dc2-5771-4b9b-a819-c449e2c90a20",
   "metadata": {},
   "outputs": [
    {
     "name": "stdout",
     "output_type": "stream",
     "text": [
      "<class 'pandas.core.frame.DataFrame'>\n",
      "RangeIndex: 756 entries, 0 to 755\n",
      "Columns: 755 entries, id to class\n",
      "dtypes: float64(749), int64(6)\n",
      "memory usage: 4.4 MB\n"
     ]
    }
   ],
   "source": [
    "df.info()"
   ]
  },
  {
   "cell_type": "code",
   "execution_count": 5,
   "id": "65c76092-bc70-41fa-afe2-b3944ff5f837",
   "metadata": {},
   "outputs": [
    {
     "data": {
      "text/html": [
       "<div>\n",
       "<style scoped>\n",
       "    .dataframe tbody tr th:only-of-type {\n",
       "        vertical-align: middle;\n",
       "    }\n",
       "\n",
       "    .dataframe tbody tr th {\n",
       "        vertical-align: top;\n",
       "    }\n",
       "\n",
       "    .dataframe thead th {\n",
       "        text-align: right;\n",
       "    }\n",
       "</style>\n",
       "<table border=\"1\" class=\"dataframe\">\n",
       "  <thead>\n",
       "    <tr style=\"text-align: right;\">\n",
       "      <th></th>\n",
       "      <th>count</th>\n",
       "      <th>mean</th>\n",
       "      <th>std</th>\n",
       "      <th>min</th>\n",
       "      <th>25%</th>\n",
       "      <th>50%</th>\n",
       "      <th>75%</th>\n",
       "      <th>max</th>\n",
       "    </tr>\n",
       "  </thead>\n",
       "  <tbody>\n",
       "    <tr>\n",
       "      <th>id</th>\n",
       "      <td>756.0</td>\n",
       "      <td>125.500000</td>\n",
       "      <td>72.793721</td>\n",
       "      <td>0.000000</td>\n",
       "      <td>62.750000</td>\n",
       "      <td>125.500000</td>\n",
       "      <td>188.250000</td>\n",
       "      <td>251.00000</td>\n",
       "    </tr>\n",
       "    <tr>\n",
       "      <th>gender</th>\n",
       "      <td>756.0</td>\n",
       "      <td>0.515873</td>\n",
       "      <td>0.500079</td>\n",
       "      <td>0.000000</td>\n",
       "      <td>0.000000</td>\n",
       "      <td>1.000000</td>\n",
       "      <td>1.000000</td>\n",
       "      <td>1.00000</td>\n",
       "    </tr>\n",
       "    <tr>\n",
       "      <th>PPE</th>\n",
       "      <td>756.0</td>\n",
       "      <td>0.746284</td>\n",
       "      <td>0.169294</td>\n",
       "      <td>0.041551</td>\n",
       "      <td>0.762833</td>\n",
       "      <td>0.809655</td>\n",
       "      <td>0.834315</td>\n",
       "      <td>0.90766</td>\n",
       "    </tr>\n",
       "    <tr>\n",
       "      <th>DFA</th>\n",
       "      <td>756.0</td>\n",
       "      <td>0.700414</td>\n",
       "      <td>0.069718</td>\n",
       "      <td>0.543500</td>\n",
       "      <td>0.647053</td>\n",
       "      <td>0.700525</td>\n",
       "      <td>0.754985</td>\n",
       "      <td>0.85264</td>\n",
       "    </tr>\n",
       "    <tr>\n",
       "      <th>RPDE</th>\n",
       "      <td>756.0</td>\n",
       "      <td>0.489058</td>\n",
       "      <td>0.137442</td>\n",
       "      <td>0.154300</td>\n",
       "      <td>0.386537</td>\n",
       "      <td>0.484355</td>\n",
       "      <td>0.586515</td>\n",
       "      <td>0.87123</td>\n",
       "    </tr>\n",
       "    <tr>\n",
       "      <th>...</th>\n",
       "      <td>...</td>\n",
       "      <td>...</td>\n",
       "      <td>...</td>\n",
       "      <td>...</td>\n",
       "      <td>...</td>\n",
       "      <td>...</td>\n",
       "      <td>...</td>\n",
       "      <td>...</td>\n",
       "    </tr>\n",
       "    <tr>\n",
       "      <th>tqwt_kurtosisValue_dec_33</th>\n",
       "      <td>756.0</td>\n",
       "      <td>12.375335</td>\n",
       "      <td>16.341665</td>\n",
       "      <td>1.628700</td>\n",
       "      <td>3.114375</td>\n",
       "      <td>4.741450</td>\n",
       "      <td>12.201325</td>\n",
       "      <td>73.53220</td>\n",
       "    </tr>\n",
       "    <tr>\n",
       "      <th>tqwt_kurtosisValue_dec_34</th>\n",
       "      <td>756.0</td>\n",
       "      <td>14.799230</td>\n",
       "      <td>15.722502</td>\n",
       "      <td>1.861700</td>\n",
       "      <td>3.665925</td>\n",
       "      <td>6.725700</td>\n",
       "      <td>21.922050</td>\n",
       "      <td>62.00730</td>\n",
       "    </tr>\n",
       "    <tr>\n",
       "      <th>tqwt_kurtosisValue_dec_35</th>\n",
       "      <td>756.0</td>\n",
       "      <td>14.751559</td>\n",
       "      <td>14.432979</td>\n",
       "      <td>1.955900</td>\n",
       "      <td>3.741275</td>\n",
       "      <td>7.334250</td>\n",
       "      <td>22.495175</td>\n",
       "      <td>57.54430</td>\n",
       "    </tr>\n",
       "    <tr>\n",
       "      <th>tqwt_kurtosisValue_dec_36</th>\n",
       "      <td>756.0</td>\n",
       "      <td>31.481110</td>\n",
       "      <td>34.230991</td>\n",
       "      <td>2.364000</td>\n",
       "      <td>3.948750</td>\n",
       "      <td>10.637250</td>\n",
       "      <td>61.125325</td>\n",
       "      <td>156.42370</td>\n",
       "    </tr>\n",
       "    <tr>\n",
       "      <th>class</th>\n",
       "      <td>756.0</td>\n",
       "      <td>0.746032</td>\n",
       "      <td>0.435568</td>\n",
       "      <td>0.000000</td>\n",
       "      <td>0.000000</td>\n",
       "      <td>1.000000</td>\n",
       "      <td>1.000000</td>\n",
       "      <td>1.00000</td>\n",
       "    </tr>\n",
       "  </tbody>\n",
       "</table>\n",
       "<p>755 rows × 8 columns</p>\n",
       "</div>"
      ],
      "text/plain": [
       "                           count        mean        std       min        25%  \\\n",
       "id                         756.0  125.500000  72.793721  0.000000  62.750000   \n",
       "gender                     756.0    0.515873   0.500079  0.000000   0.000000   \n",
       "PPE                        756.0    0.746284   0.169294  0.041551   0.762833   \n",
       "DFA                        756.0    0.700414   0.069718  0.543500   0.647053   \n",
       "RPDE                       756.0    0.489058   0.137442  0.154300   0.386537   \n",
       "...                          ...         ...        ...       ...        ...   \n",
       "tqwt_kurtosisValue_dec_33  756.0   12.375335  16.341665  1.628700   3.114375   \n",
       "tqwt_kurtosisValue_dec_34  756.0   14.799230  15.722502  1.861700   3.665925   \n",
       "tqwt_kurtosisValue_dec_35  756.0   14.751559  14.432979  1.955900   3.741275   \n",
       "tqwt_kurtosisValue_dec_36  756.0   31.481110  34.230991  2.364000   3.948750   \n",
       "class                      756.0    0.746032   0.435568  0.000000   0.000000   \n",
       "\n",
       "                                  50%         75%        max  \n",
       "id                         125.500000  188.250000  251.00000  \n",
       "gender                       1.000000    1.000000    1.00000  \n",
       "PPE                          0.809655    0.834315    0.90766  \n",
       "DFA                          0.700525    0.754985    0.85264  \n",
       "RPDE                         0.484355    0.586515    0.87123  \n",
       "...                               ...         ...        ...  \n",
       "tqwt_kurtosisValue_dec_33    4.741450   12.201325   73.53220  \n",
       "tqwt_kurtosisValue_dec_34    6.725700   21.922050   62.00730  \n",
       "tqwt_kurtosisValue_dec_35    7.334250   22.495175   57.54430  \n",
       "tqwt_kurtosisValue_dec_36   10.637250   61.125325  156.42370  \n",
       "class                        1.000000    1.000000    1.00000  \n",
       "\n",
       "[755 rows x 8 columns]"
      ]
     },
     "execution_count": 5,
     "metadata": {},
     "output_type": "execute_result"
    }
   ],
   "source": [
    "df.describe().T"
   ]
  },
  {
   "cell_type": "markdown",
   "id": "dc1c6f67-f4a7-4510-92b8-8b9161d1bd87",
   "metadata": {},
   "source": [
    "## Data Cleaning"
   ]
  },
  {
   "cell_type": "code",
   "execution_count": 6,
   "id": "ab513af4-d02d-4f6f-8536-36ae5db3a13a",
   "metadata": {},
   "outputs": [],
   "source": [
    "df = df.groupby('id').mean().reset_index()\n",
    "df.drop('id', axis=1, inplace=True)"
   ]
  },
  {
   "cell_type": "code",
   "execution_count": null,
   "id": "4cf2547e-613c-48c6-8933-932a5c88a606",
   "metadata": {},
   "outputs": [],
   "source": [
    "columns = list(df.columns)\n",
    "for col in columns:\n",
    "\tif col == 'class':\n",
    "\t\tcontinue\n",
    "\n",
    "\tfiltered_columns = [col]\n",
    "\tfor col1 in df.columns:\n",
    "\t\tif((col == col1) | (col == 'class')):\n",
    "\t\t\tcontinue\n",
    "\n",
    "\t\tval = df[col].corr(df[col1])\n",
    "\n",
    "\t\tif val > 0.7:\n",
    "\t\t\t# If the correlation between the two\n",
    "\t\t\t# features is more than 0.7 remove\n",
    "\t\t\tcolumns.remove(col1)\n",
    "\t\t\tcontinue\n",
    "\t\telse:\n",
    "\t\t\tfiltered_columns.append(col1)\n",
    "\n",
    "\t# After each iteration filter out the columns\n",
    "\t# which are not highly correlated features.\n",
    "\tdf = df[filtered_columns]\n",
    "df.shape"
   ]
  },
  {
   "cell_type": "code",
   "execution_count": null,
   "id": "885ff353-2817-4568-8634-e6104a838b89",
   "metadata": {},
   "outputs": [
    {
     "data": {
      "text/plain": [
       "(252, 31)"
      ]
     },
     "execution_count": 9,
     "metadata": {},
     "output_type": "execute_result"
    }
   ],
   "source": [
    "X = df.drop('class', axis=1)\n",
    "X_norm = MinMaxScaler().fit_transform(X)\n",
    "selector = SelectKBest(chi2, k=30)\n",
    "selector.fit(X_norm, df['class'])\n",
    "filtered_columns = selector.get_support()\n",
    "filtered_data = X.loc[:, filtered_columns]\n",
    "filtered_data['class'] = df['class']\n",
    "df = filtered_data\n",
    "df.shape"
   ]
  },
  {
   "cell_type": "code",
   "execution_count": null,
   "id": "7738a2fa-f3b2-481c-a1ce-556ccadc4285",
   "metadata": {},
   "outputs": [
    {
     "data": {
      "image/png": "[encoded data removed]",
      "text/plain": [
       "<Figure size 640x480 with 1 Axes>"
      ]
     },
     "metadata": {},
     "output_type": "display_data"
    }
   ],
   "source": [
    "x = df['class'].value_counts()\n",
    "plt.pie(x.values,\n",
    "\t\tlabels = x.index,\n",
    "\t\tautopct='%1.1f%%')\n",
    "plt.show()"
   ]
  },
  {
   "cell_type": "markdown",
   "id": "4e1c5385-8daa-44da-92aa-652f3f8ee30e",
   "metadata": {},
   "source": [
    "## Model Training"
   ]
  },
  {
   "cell_type": "code",
   "execution_count": null,
   "id": "d7e2a82b-97ec-492a-83a6-aa97e23cf124",
   "metadata": {},
   "outputs": [
    {
     "data": {
      "text/plain": [
       "((201, 30), (51, 30))"
      ]
     },
     "execution_count": 11,
     "metadata": {},
     "output_type": "execute_result"
    }
   ],
   "source": [
    "features = df.drop('class', axis=1)\n",
    "target = df['class']\n",
    "\n",
    "X_train, X_val,\\\n",
    "\tY_train, Y_val = train_test_split(features, target,\n",
    "\t\t\t\t\t\t\t\t\ttest_size=0.2,\n",
    "\t\t\t\t\t\t\t\t\trandom_state=10)\n",
    "X_train.shape, X_val.shape"
   ]
  },
  {
   "cell_type": "code",
   "execution_count": null,
   "id": "d874b834-a0d3-4d75-bfe2-8942fe196f91",
   "metadata": {},
   "outputs": [
    {
     "data": {
      "text/plain": [
       "((302, 30), (302,))"
      ]
     },
     "execution_count": 12,
     "metadata": {},
     "output_type": "execute_result"
    }
   ],
   "source": [
    "# As the data was highly imbalanced we will balance\n",
    "# it by adding repetitive rows of minority class.\n",
    "ros = RandomOverSampler(sampling_strategy='minority',\n",
    "\t\t\t\t\t\trandom_state=0)\n",
    "X, Y = ros.fit_resample(X_train, Y_train)\n",
    "X.shape, Y.shape"
   ]
  },
  {
   "cell_type": "code",
   "execution_count": null,
   "id": "0b014f78-fbd0-485e-8405-e103d39b2461",
   "metadata": {},
   "outputs": [
    {
     "name": "stdout",
     "output_type": "stream",
     "text": [
      "LogisticRegression() : \n",
      "Training Accuracy :  0.8292180167536511\n",
      "Validation Accuracy :  0.8146718146718146\n",
      "\n",
      "XGBClassifier(base_score=None, booster=None, callbacks=None,\n",
      "              colsample_bylevel=None, colsample_bynode=None,\n",
      "              colsample_bytree=None, device=None, early_stopping_rounds=None,\n",
      "              enable_categorical=False, eval_metric=None, feature_types=None,\n",
      "              gamma=None, grow_policy=None, importance_type=None,\n",
      "              interaction_constraints=None, learning_rate=None, max_bin=None,\n",
      "              max_cat_threshold=None, max_cat_to_onehot=None,\n",
      "              max_delta_step=None, max_depth=None, max_leaves=None,\n",
      "              min_child_weight=None, missing=nan, monotone_constraints=None,\n",
      "              multi_strategy=None, n_estimators=None, n_jobs=None,\n",
      "              num_parallel_tree=None, random_state=None, ...) : \n",
      "Training Accuracy :  0.9999999999999999\n",
      "Validation Accuracy :  0.7857142857142857\n",
      "\n",
      "SVC(probability=True) : \n",
      "Training Accuracy :  0.7104074382702513\n",
      "Validation Accuracy :  0.7606177606177607\n",
      "\n"
     ]
    }
   ],
   "source": [
    "models = [LogisticRegression(), XGBClassifier(), SVC(kernel='rbf', probability=True)]\n",
    "\n",
    "for i in range(len(models)):\n",
    "\tmodels[i].fit(X, Y)\n",
    "\n",
    "\tprint(f'{models[i]} : ')\n",
    "\n",
    "\ttrain_preds = models[i].predict_proba(X)[:, 1]\n",
    "\tprint('Training Accuracy : ', ras(Y, train_preds))\n",
    "\n",
    "\tval_preds = models[i].predict_proba(X_val)[:, 1]\n",
    "\tprint('Validation Accuracy : ', ras(Y_val, val_preds))\n",
    "\tprint()"
   ]
  },
  {
   "cell_type": "markdown",
   "id": "8cfe8958-7c1f-4532-8135-336c560bf421",
   "metadata": {},
   "source": [
    "## Model Evaluation"
   ]
  },
  {
   "cell_type": "code",
   "execution_count": null,
   "id": "27956aa3-098e-40c3-b593-f3b62c293a49",
   "metadata": {},
   "outputs": [
    {
     "data": {
      "image/png": "[encoded data removed]",
      "text/plain": [
       "<Figure size 640x480 with 2 Axes>"
      ]
     },
     "metadata": {},
     "output_type": "display_data"
    },
    {
     "name": "stdout",
     "output_type": "stream",
     "text": [
      "              precision    recall  f1-score   support\n",
      "\n",
      "         0.0       0.83      0.71      0.77        14\n",
      "         1.0       0.90      0.95      0.92        37\n",
      "\n",
      "    accuracy                           0.88        51\n",
      "   macro avg       0.87      0.83      0.85        51\n",
      "weighted avg       0.88      0.88      0.88        51\n",
      "\n"
     ]
    }
   ],
   "source": [
    "metrics.ConfusionMatrixDisplay.from_estimator(models[0],\n",
    "\t\t\t\t\t\t\t                  X_val, Y_val)\n",
    "plt.title('Confusion matrix for the validation data')\n",
    "plt.show()\n",
    "print(metrics.classification_report(\n",
    "    Y_val, models[0].predict(X_val)))"
   ]
  },
  {
   "cell_type": "code",
   "execution_count": null,
   "id": "b6e6c70f-e51e-4f3c-84ce-dc46c7015c8a",
   "metadata": {},
   "outputs": [
    {
     "data": {
      "image/png": "[encoded data removed]",
      "text/plain": [
       "<Figure size 640x480 with 2 Axes>"
      ]
     },
     "metadata": {},
     "output_type": "display_data"
    },
    {
     "name": "stdout",
     "output_type": "stream",
     "text": [
      "              precision    recall  f1-score   support\n",
      "\n",
      "         0.0       0.41      0.64      0.50        14\n",
      "         1.0       0.83      0.65      0.73        37\n",
      "\n",
      "    accuracy                           0.65        51\n",
      "   macro avg       0.62      0.65      0.61        51\n",
      "weighted avg       0.71      0.65      0.66        51\n",
      "\n"
     ]
    }
   ],
   "source": [
    "metrics.ConfusionMatrixDisplay.from_estimator(models[2],\n",
    "\t\t\t\t\t\t\t                  X_val, Y_val)\n",
    "plt.title('Confusion matrix for the validation data')\n",
    "plt.show()\n",
    "print(metrics.classification_report(\n",
    "    Y_val, models[2].predict(X_val)))"
   ]
  }
 ],
 "metadata": {
  "kernelspec": {
   "display_name": "Parkinson",
   "language": "python",
   "name": "python3"
  },
  "language_info": {
   "codemirror_mode": {
    "name": "ipython",
    "version": 3
   },
   "file_extension": ".py",
   "mimetype": "text/x-python",
   "name": "python",
   "nbconvert_exporter": "python",
   "pygments_lexer": "ipython3",
   "version": "3.8.20"
  }
 },
 "nbformat": 4,
 "nbformat_minor": 5
}
